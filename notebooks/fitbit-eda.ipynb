{
 "cells": [
  {
   "cell_type": "markdown",
   "id": "3cd3b6b7-95e2-4af1-a585-3eb0a4d67d29",
   "metadata": {},
   "source": [
    "# Fitbit: Exploratory data analysis\n",
    "\n",
    "Assumes that environment variables have been defined for locating 'weight-*.json' files. See the `.env.example` file for guidance.\n",
    "\n",
    "- GLOBAL_EXPORT_DATA_DIR : Path to the 'Global Export Data' directory.\n",
    "- WEIGHT_FILE_PREFIX : Part of a file name that identifies the file as weight data, e.g. 'weight-'.\n",
    "- WEIGHT_FILE_SUFFIX : File type suffix, e.g. '.json'."
   ]
  },
  {
   "cell_type": "code",
   "execution_count": 1,
   "id": "061d187c-9ae6-4f05-b969-4238345e938f",
   "metadata": {},
   "outputs": [],
   "source": [
    "from dotenv import load_dotenv\n",
    "import os\n",
    "from pathlib import Path\n",
    "import polars as pl"
   ]
  },
  {
   "cell_type": "code",
   "execution_count": 2,
   "id": "907bc958-9889-4c99-ad4b-6b962bf0ebd5",
   "metadata": {},
   "outputs": [],
   "source": [
    "# Path to Global Export Data directory\n",
    "load_dotenv()\n",
    "GLOBAL_EXPORT_DATA_DIR_NAME = os.getenv('GLOBAL_EXPORT_DATA_DIR_NAME')\n",
    "WEIGHT_FILE_PREFIX = os.getenv('WEIGHT_FILE_PREFIX', default='weight-')\n",
    "WEIGHT_FILE_SUFFIX = os.getenv('WEIGHT_FILE_SUFFIX', default='.json')\n",
    "sample_monthly_weight_file_name = f\"{WEIGHT_FILE_PREFIX}2024-07-20{WEIGHT_FILE_SUFFIX}\""
   ]
  },
  {
   "cell_type": "markdown",
   "id": "482a2c84-ac2c-4cf0-8fd3-932518f842d6",
   "metadata": {},
   "source": [
    "## Reads a single file."
   ]
  },
  {
   "cell_type": "code",
   "execution_count": 3,
   "id": "eb3c08c1-9a99-42e1-8503-8d46dae9f06e",
   "metadata": {},
   "outputs": [
    {
     "name": "stdout",
     "output_type": "stream",
     "text": [
      "shape: (26, 6)\n",
      "┌───────────────┬────────┬───────┬──────────┬──────────┬────────┐\n",
      "│ logId         ┆ weight ┆ bmi   ┆ date     ┆ time     ┆ source │\n",
      "│ ---           ┆ ---    ┆ ---   ┆ ---      ┆ ---      ┆ ---    │\n",
      "│ i64           ┆ f64    ┆ f64   ┆ str      ┆ str      ┆ str    │\n",
      "╞═══════════════╪════════╪═══════╪══════════╪══════════╪════════╡\n",
      "│ 1721455821000 ┆ 214.6  ┆ 26.82 ┆ 07/20/24 ┆ 06:10:21 ┆ API    │\n",
      "│ 1721519999000 ┆ 214.6  ┆ 26.82 ┆ 07/20/24 ┆ 23:59:59 ┆ API    │\n",
      "│ 1721550936000 ┆ 213.7  ┆ 26.71 ┆ 07/21/24 ┆ 08:35:36 ┆ API    │\n",
      "│ 1721630868000 ┆ 219.0  ┆ 27.37 ┆ 07/22/24 ┆ 06:47:48 ┆ API    │\n",
      "│ 1721721955000 ┆ 215.9  ┆ 26.99 ┆ 07/23/24 ┆ 08:05:55 ┆ API    │\n",
      "│ …             ┆ …      ┆ …     ┆ …        ┆ …        ┆ …      │\n",
      "│ 1723179214000 ┆ 219.7  ┆ 27.46 ┆ 08/09/24 ┆ 04:53:34 ┆ API    │\n",
      "│ 1723247999000 ┆ 219.7  ┆ 27.46 ┆ 08/09/24 ┆ 23:59:59 ┆ API    │\n",
      "│ 1723366762000 ┆ 218.0  ┆ 27.25 ┆ 08/11/24 ┆ 08:59:22 ┆ API    │\n",
      "│ 1723438017000 ┆ 215.7  ┆ 26.96 ┆ 08/12/24 ┆ 04:46:57 ┆ API    │\n",
      "│ 1723883484000 ┆ 213.8  ┆ 26.72 ┆ 08/17/24 ┆ 08:31:24 ┆ API    │\n",
      "└───────────────┴────────┴───────┴──────────┴──────────┴────────┘\n"
     ]
    }
   ],
   "source": [
    "df = pl.read_json(os.path.join(GLOBAL_EXPORT_DATA_DIR_NAME, sample_monthly_weight_file_name))\n",
    "print(df)"
   ]
  },
  {
   "cell_type": "markdown",
   "id": "20678e3b-6e1b-4574-81f5-840f1ad4fe6f",
   "metadata": {},
   "source": [
    "## Concatenates all the 'weight-*.json' files in a directory into a Dataframe."
   ]
  },
  {
   "cell_type": "code",
   "execution_count": 4,
   "id": "fa773d19-c596-4dbe-8df2-bb95a1b131dd",
   "metadata": {},
   "outputs": [
    {
     "data": {
      "text/plain": [
       "(341, 6)"
      ]
     },
     "execution_count": 4,
     "metadata": {},
     "output_type": "execute_result"
    }
   ],
   "source": [
    "df = None\n",
    "with os.scandir(GLOBAL_EXPORT_DATA_DIR_NAME) as ged_dir_entries:\n",
    "    for entry in ged_dir_entries:\n",
    "        if entry.name.startswith(WEIGHT_FILE_PREFIX) and entry.name.endswith(WEIGHT_FILE_SUFFIX) and entry.is_file():\n",
    "            entry_as_df = pl.read_json(os.path.join(GLOBAL_EXPORT_DATA_DIR_NAME, entry.name))\n",
    "            df = entry_as_df if df is None else df.vstack(entry_as_df)\n",
    "df.shape"
   ]
  },
  {
   "cell_type": "code",
   "execution_count": 5,
   "id": "91aa9543-85ed-4fa2-ae53-456b416a6ccf",
   "metadata": {},
   "outputs": [
    {
     "data": {
      "text/html": [
       "<div><style>\n",
       ".dataframe > thead > tr,\n",
       ".dataframe > tbody > tr {\n",
       "  text-align: right;\n",
       "  white-space: pre-wrap;\n",
       "}\n",
       "</style>\n",
       "<small>shape: (1, 6)</small><table border=\"1\" class=\"dataframe\"><thead><tr><th>logId</th><th>weight</th><th>bmi</th><th>date</th><th>time</th><th>source</th></tr><tr><td>u32</td><td>u32</td><td>u32</td><td>u32</td><td>u32</td><td>u32</td></tr></thead><tbody><tr><td>341</td><td>341</td><td>341</td><td>341</td><td>341</td><td>341</td></tr></tbody></table></div>"
      ],
      "text/plain": [
       "shape: (1, 6)\n",
       "┌───────┬────────┬─────┬──────┬──────┬────────┐\n",
       "│ logId ┆ weight ┆ bmi ┆ date ┆ time ┆ source │\n",
       "│ ---   ┆ ---    ┆ --- ┆ ---  ┆ ---  ┆ ---    │\n",
       "│ u32   ┆ u32    ┆ u32 ┆ u32  ┆ u32  ┆ u32    │\n",
       "╞═══════╪════════╪═════╪══════╪══════╪════════╡\n",
       "│ 341   ┆ 341    ┆ 341 ┆ 341  ┆ 341  ┆ 341    │\n",
       "└───────┴────────┴─────┴──────┴──────┴────────┘"
      ]
     },
     "execution_count": 5,
     "metadata": {},
     "output_type": "execute_result"
    }
   ],
   "source": [
    "df.count()"
   ]
  },
  {
   "cell_type": "code",
   "execution_count": 6,
   "id": "5e61f63a-2020-476b-b27c-1c2428053f1a",
   "metadata": {},
   "outputs": [
    {
     "data": {
      "text/html": [
       "<div><style>\n",
       ".dataframe > thead > tr,\n",
       ".dataframe > tbody > tr {\n",
       "  text-align: right;\n",
       "  white-space: pre-wrap;\n",
       "}\n",
       "</style>\n",
       "<small>shape: (5, 6)</small><table border=\"1\" class=\"dataframe\"><thead><tr><th>logId</th><th>weight</th><th>bmi</th><th>date</th><th>time</th><th>source</th></tr><tr><td>i64</td><td>f64</td><td>f64</td><td>str</td><td>str</td><td>str</td></tr></thead><tbody><tr><td>1628294399000</td><td>242.0</td><td>30.25</td><td>&quot;08/06/21&quot;</td><td>&quot;23:59:59&quot;</td><td>&quot;API&quot;</td></tr><tr><td>1718927999000</td><td>223.2</td><td>27.9</td><td>&quot;06/20/24&quot;</td><td>&quot;23:59:59&quot;</td><td>&quot;API&quot;</td></tr><tr><td>1719187199000</td><td>223.0</td><td>27.87</td><td>&quot;06/23/24&quot;</td><td>&quot;23:59:59&quot;</td><td>&quot;API&quot;</td></tr><tr><td>1719273599000</td><td>224.0</td><td>28.0</td><td>&quot;06/24/24&quot;</td><td>&quot;23:59:59&quot;</td><td>&quot;API&quot;</td></tr><tr><td>1719359999000</td><td>223.8</td><td>27.97</td><td>&quot;06/25/24&quot;</td><td>&quot;23:59:59&quot;</td><td>&quot;API&quot;</td></tr></tbody></table></div>"
      ],
      "text/plain": [
       "shape: (5, 6)\n",
       "┌───────────────┬────────┬───────┬──────────┬──────────┬────────┐\n",
       "│ logId         ┆ weight ┆ bmi   ┆ date     ┆ time     ┆ source │\n",
       "│ ---           ┆ ---    ┆ ---   ┆ ---      ┆ ---      ┆ ---    │\n",
       "│ i64           ┆ f64    ┆ f64   ┆ str      ┆ str      ┆ str    │\n",
       "╞═══════════════╪════════╪═══════╪══════════╪══════════╪════════╡\n",
       "│ 1628294399000 ┆ 242.0  ┆ 30.25 ┆ 08/06/21 ┆ 23:59:59 ┆ API    │\n",
       "│ 1718927999000 ┆ 223.2  ┆ 27.9  ┆ 06/20/24 ┆ 23:59:59 ┆ API    │\n",
       "│ 1719187199000 ┆ 223.0  ┆ 27.87 ┆ 06/23/24 ┆ 23:59:59 ┆ API    │\n",
       "│ 1719273599000 ┆ 224.0  ┆ 28.0  ┆ 06/24/24 ┆ 23:59:59 ┆ API    │\n",
       "│ 1719359999000 ┆ 223.8  ┆ 27.97 ┆ 06/25/24 ┆ 23:59:59 ┆ API    │\n",
       "└───────────────┴────────┴───────┴──────────┴──────────┴────────┘"
      ]
     },
     "execution_count": 6,
     "metadata": {},
     "output_type": "execute_result"
    }
   ],
   "source": [
    "df.head(5)"
   ]
  },
  {
   "cell_type": "code",
   "execution_count": 7,
   "id": "64581ee5-080a-46f5-9003-054855d1707b",
   "metadata": {},
   "outputs": [
    {
     "data": {
      "text/html": [
       "<div><style>\n",
       ".dataframe > thead > tr,\n",
       ".dataframe > tbody > tr {\n",
       "  text-align: right;\n",
       "  white-space: pre-wrap;\n",
       "}\n",
       "</style>\n",
       "<small>shape: (5, 6)</small><table border=\"1\" class=\"dataframe\"><thead><tr><th>logId</th><th>weight</th><th>bmi</th><th>date</th><th>time</th><th>source</th></tr><tr><td>i64</td><td>f64</td><td>f64</td><td>str</td><td>str</td><td>str</td></tr></thead><tbody><tr><td>1710719999000</td><td>225.0</td><td>28.12</td><td>&quot;03/17/24&quot;</td><td>&quot;23:59:59&quot;</td><td>&quot;API&quot;</td></tr><tr><td>1710806399000</td><td>225.2</td><td>28.15</td><td>&quot;03/18/24&quot;</td><td>&quot;23:59:59&quot;</td><td>&quot;API&quot;</td></tr><tr><td>1710892799000</td><td>225.8</td><td>28.22</td><td>&quot;03/19/24&quot;</td><td>&quot;23:59:59&quot;</td><td>&quot;API&quot;</td></tr><tr><td>1710979199000</td><td>228.6</td><td>28.57</td><td>&quot;03/20/24&quot;</td><td>&quot;23:59:59&quot;</td><td>&quot;API&quot;</td></tr><tr><td>1711065599000</td><td>227.0</td><td>28.37</td><td>&quot;03/21/24&quot;</td><td>&quot;23:59:59&quot;</td><td>&quot;API&quot;</td></tr></tbody></table></div>"
      ],
      "text/plain": [
       "shape: (5, 6)\n",
       "┌───────────────┬────────┬───────┬──────────┬──────────┬────────┐\n",
       "│ logId         ┆ weight ┆ bmi   ┆ date     ┆ time     ┆ source │\n",
       "│ ---           ┆ ---    ┆ ---   ┆ ---      ┆ ---      ┆ ---    │\n",
       "│ i64           ┆ f64    ┆ f64   ┆ str      ┆ str      ┆ str    │\n",
       "╞═══════════════╪════════╪═══════╪══════════╪══════════╪════════╡\n",
       "│ 1710719999000 ┆ 225.0  ┆ 28.12 ┆ 03/17/24 ┆ 23:59:59 ┆ API    │\n",
       "│ 1710806399000 ┆ 225.2  ┆ 28.15 ┆ 03/18/24 ┆ 23:59:59 ┆ API    │\n",
       "│ 1710892799000 ┆ 225.8  ┆ 28.22 ┆ 03/19/24 ┆ 23:59:59 ┆ API    │\n",
       "│ 1710979199000 ┆ 228.6  ┆ 28.57 ┆ 03/20/24 ┆ 23:59:59 ┆ API    │\n",
       "│ 1711065599000 ┆ 227.0  ┆ 28.37 ┆ 03/21/24 ┆ 23:59:59 ┆ API    │\n",
       "└───────────────┴────────┴───────┴──────────┴──────────┴────────┘"
      ]
     },
     "execution_count": 7,
     "metadata": {},
     "output_type": "execute_result"
    }
   ],
   "source": [
    "df.tail(5)"
   ]
  },
  {
   "cell_type": "code",
   "execution_count": null,
   "id": "07fdfb2c-0090-4984-8f61-2f246728888d",
   "metadata": {},
   "outputs": [],
   "source": []
  }
 ],
 "metadata": {
  "kernelspec": {
   "display_name": "fitbit-dashboard",
   "language": "python",
   "name": "fitbit-dashboard"
  },
  "language_info": {
   "codemirror_mode": {
    "name": "ipython",
    "version": 3
   },
   "file_extension": ".py",
   "mimetype": "text/x-python",
   "name": "python",
   "nbconvert_exporter": "python",
   "pygments_lexer": "ipython3",
   "version": "3.13.0"
  }
 },
 "nbformat": 4,
 "nbformat_minor": 5
}

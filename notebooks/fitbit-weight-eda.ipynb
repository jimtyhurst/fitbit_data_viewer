{
 "cells": [
  {
   "cell_type": "markdown",
   "id": "3cd3b6b7-95e2-4af1-a585-3eb0a4d67d29",
   "metadata": {},
   "source": [
    "# Fitbit: Exploratory data analysis\n",
    "\n",
    "Assumes that environment variables have been defined for locating 'weight-*.json' files. See the `.env.example` file for guidance.\n",
    "\n",
    "- GLOBAL_EXPORT_DATA_DIR_NAME : Path to the 'Global Export Data' directory, which contains files exported from a Fitbit account.\n",
    "- CLEAN_DATA_DIR_NAME : Path to the directory where clean parquet files are saved.\n",
    "- WEIGHT_FILE_PREFIX : Part of a file name that identifies the file as weight data, e.g. 'weight-'.\n",
    "- WEIGHT_FILE_SUFFIX : File type suffix, e.g. '.json'."
   ]
  },
  {
   "cell_type": "code",
   "execution_count": 1,
   "id": "061d187c-9ae6-4f05-b969-4238345e938f",
   "metadata": {},
   "outputs": [],
   "source": [
    "from dotenv import load_dotenv\n",
    "import os\n",
    "from pathlib import Path\n",
    "import polars as pl"
   ]
  },
  {
   "cell_type": "code",
   "execution_count": 2,
   "id": "907bc958-9889-4c99-ad4b-6b962bf0ebd5",
   "metadata": {},
   "outputs": [],
   "source": [
    "# Path to Global Export Data directory\n",
    "load_dotenv()\n",
    "GLOBAL_EXPORT_DATA_DIR_NAME = os.getenv('GLOBAL_EXPORT_DATA_DIR_NAME')\n",
    "CLEAN_DATA_DIR_NAME = os.getenv('CLEAN_DATA_DIR_NAME')\n",
    "WEIGHT_FILE_PREFIX = os.getenv('WEIGHT_FILE_PREFIX', default='weight-')\n",
    "WEIGHT_FILE_SUFFIX = os.getenv('WEIGHT_FILE_SUFFIX', default='.json')\n",
    "sample_monthly_weight_file_name = (\n",
    "    f'{WEIGHT_FILE_PREFIX}2024-07-20{WEIGHT_FILE_SUFFIX}'\n",
    ")"
   ]
  },
  {
   "cell_type": "markdown",
   "id": "482a2c84-ac2c-4cf0-8fd3-932518f842d6",
   "metadata": {},
   "source": [
    "## Reads a single file."
   ]
  },
  {
   "cell_type": "code",
   "execution_count": 3,
   "id": "eb3c08c1-9a99-42e1-8503-8d46dae9f06e",
   "metadata": {},
   "outputs": [
    {
     "name": "stdout",
     "output_type": "stream",
     "text": [
      "shape: (26, 6)\n",
      "┌───────────────┬────────┬───────┬──────────┬──────────┬────────┐\n",
      "│ logId         ┆ weight ┆ bmi   ┆ date     ┆ time     ┆ source │\n",
      "│ ---           ┆ ---    ┆ ---   ┆ ---      ┆ ---      ┆ ---    │\n",
      "│ i64           ┆ f64    ┆ f64   ┆ str      ┆ str      ┆ str    │\n",
      "╞═══════════════╪════════╪═══════╪══════════╪══════════╪════════╡\n",
      "│ 1721455821000 ┆ 214.6  ┆ 26.82 ┆ 07/20/24 ┆ 06:10:21 ┆ API    │\n",
      "│ 1721519999000 ┆ 214.6  ┆ 26.82 ┆ 07/20/24 ┆ 23:59:59 ┆ API    │\n",
      "│ 1721550936000 ┆ 213.7  ┆ 26.71 ┆ 07/21/24 ┆ 08:35:36 ┆ API    │\n",
      "│ 1721630868000 ┆ 219.0  ┆ 27.37 ┆ 07/22/24 ┆ 06:47:48 ┆ API    │\n",
      "│ 1721721955000 ┆ 215.9  ┆ 26.99 ┆ 07/23/24 ┆ 08:05:55 ┆ API    │\n",
      "│ …             ┆ …      ┆ …     ┆ …        ┆ …        ┆ …      │\n",
      "│ 1723179214000 ┆ 219.7  ┆ 27.46 ┆ 08/09/24 ┆ 04:53:34 ┆ API    │\n",
      "│ 1723247999000 ┆ 219.7  ┆ 27.46 ┆ 08/09/24 ┆ 23:59:59 ┆ API    │\n",
      "│ 1723366762000 ┆ 218.0  ┆ 27.25 ┆ 08/11/24 ┆ 08:59:22 ┆ API    │\n",
      "│ 1723438017000 ┆ 215.7  ┆ 26.96 ┆ 08/12/24 ┆ 04:46:57 ┆ API    │\n",
      "│ 1723883484000 ┆ 213.8  ┆ 26.72 ┆ 08/17/24 ┆ 08:31:24 ┆ API    │\n",
      "└───────────────┴────────┴───────┴──────────┴──────────┴────────┘\n"
     ]
    }
   ],
   "source": [
    "df = pl.read_json(\n",
    "    Path(GLOBAL_EXPORT_DATA_DIR_NAME).joinpath(sample_monthly_weight_file_name)\n",
    ")\n",
    "print(df)"
   ]
  },
  {
   "cell_type": "markdown",
   "id": "20678e3b-6e1b-4574-81f5-840f1ad4fe6f",
   "metadata": {},
   "source": [
    "## Concatenates all the 'weight-*.json' files in a directory into a Dataframe."
   ]
  },
  {
   "cell_type": "code",
   "execution_count": 4,
   "id": "fa773d19-c596-4dbe-8df2-bb95a1b131dd",
   "metadata": {},
   "outputs": [
    {
     "data": {
      "text/plain": [
       "(341, 6)"
      ]
     },
     "execution_count": 4,
     "metadata": {},
     "output_type": "execute_result"
    }
   ],
   "source": [
    "df = None\n",
    "for entry in Path(GLOBAL_EXPORT_DATA_DIR_NAME).iterdir():\n",
    "    if (\n",
    "        entry.name.startswith(WEIGHT_FILE_PREFIX)\n",
    "        and entry.name.endswith(WEIGHT_FILE_SUFFIX)\n",
    "        and entry.is_file()\n",
    "    ):\n",
    "        entry_as_df = pl.read_json(\n",
    "            os.path.join(GLOBAL_EXPORT_DATA_DIR_NAME, entry.name)\n",
    "        )\n",
    "        df = entry_as_df if df is None else df.vstack(entry_as_df)\n",
    "df.shape"
   ]
  },
  {
   "cell_type": "code",
   "execution_count": 5,
   "id": "5e61f63a-2020-476b-b27c-1c2428053f1a",
   "metadata": {},
   "outputs": [
    {
     "data": {
      "text/html": [
       "<div><style>\n",
       ".dataframe > thead > tr,\n",
       ".dataframe > tbody > tr {\n",
       "  text-align: right;\n",
       "  white-space: pre-wrap;\n",
       "}\n",
       "</style>\n",
       "<small>shape: (341, 6)</small><table border=\"1\" class=\"dataframe\"><thead><tr><th>logId</th><th>weight</th><th>bmi</th><th>date</th><th>time</th><th>source</th></tr><tr><td>i64</td><td>f64</td><td>f64</td><td>str</td><td>str</td><td>str</td></tr></thead><tbody><tr><td>1628294399000</td><td>242.0</td><td>30.25</td><td>&quot;08/06/21&quot;</td><td>&quot;23:59:59&quot;</td><td>&quot;API&quot;</td></tr><tr><td>1718927999000</td><td>223.2</td><td>27.9</td><td>&quot;06/20/24&quot;</td><td>&quot;23:59:59&quot;</td><td>&quot;API&quot;</td></tr><tr><td>1719187199000</td><td>223.0</td><td>27.87</td><td>&quot;06/23/24&quot;</td><td>&quot;23:59:59&quot;</td><td>&quot;API&quot;</td></tr><tr><td>1719273599000</td><td>224.0</td><td>28.0</td><td>&quot;06/24/24&quot;</td><td>&quot;23:59:59&quot;</td><td>&quot;API&quot;</td></tr><tr><td>1719359999000</td><td>223.8</td><td>27.97</td><td>&quot;06/25/24&quot;</td><td>&quot;23:59:59&quot;</td><td>&quot;API&quot;</td></tr><tr><td>&hellip;</td><td>&hellip;</td><td>&hellip;</td><td>&hellip;</td><td>&hellip;</td><td>&hellip;</td></tr><tr><td>1710719999000</td><td>225.0</td><td>28.12</td><td>&quot;03/17/24&quot;</td><td>&quot;23:59:59&quot;</td><td>&quot;API&quot;</td></tr><tr><td>1710806399000</td><td>225.2</td><td>28.15</td><td>&quot;03/18/24&quot;</td><td>&quot;23:59:59&quot;</td><td>&quot;API&quot;</td></tr><tr><td>1710892799000</td><td>225.8</td><td>28.22</td><td>&quot;03/19/24&quot;</td><td>&quot;23:59:59&quot;</td><td>&quot;API&quot;</td></tr><tr><td>1710979199000</td><td>228.6</td><td>28.57</td><td>&quot;03/20/24&quot;</td><td>&quot;23:59:59&quot;</td><td>&quot;API&quot;</td></tr><tr><td>1711065599000</td><td>227.0</td><td>28.37</td><td>&quot;03/21/24&quot;</td><td>&quot;23:59:59&quot;</td><td>&quot;API&quot;</td></tr></tbody></table></div>"
      ],
      "text/plain": [
       "shape: (341, 6)\n",
       "┌───────────────┬────────┬───────┬──────────┬──────────┬────────┐\n",
       "│ logId         ┆ weight ┆ bmi   ┆ date     ┆ time     ┆ source │\n",
       "│ ---           ┆ ---    ┆ ---   ┆ ---      ┆ ---      ┆ ---    │\n",
       "│ i64           ┆ f64    ┆ f64   ┆ str      ┆ str      ┆ str    │\n",
       "╞═══════════════╪════════╪═══════╪══════════╪══════════╪════════╡\n",
       "│ 1628294399000 ┆ 242.0  ┆ 30.25 ┆ 08/06/21 ┆ 23:59:59 ┆ API    │\n",
       "│ 1718927999000 ┆ 223.2  ┆ 27.9  ┆ 06/20/24 ┆ 23:59:59 ┆ API    │\n",
       "│ 1719187199000 ┆ 223.0  ┆ 27.87 ┆ 06/23/24 ┆ 23:59:59 ┆ API    │\n",
       "│ 1719273599000 ┆ 224.0  ┆ 28.0  ┆ 06/24/24 ┆ 23:59:59 ┆ API    │\n",
       "│ 1719359999000 ┆ 223.8  ┆ 27.97 ┆ 06/25/24 ┆ 23:59:59 ┆ API    │\n",
       "│ …             ┆ …      ┆ …     ┆ …        ┆ …        ┆ …      │\n",
       "│ 1710719999000 ┆ 225.0  ┆ 28.12 ┆ 03/17/24 ┆ 23:59:59 ┆ API    │\n",
       "│ 1710806399000 ┆ 225.2  ┆ 28.15 ┆ 03/18/24 ┆ 23:59:59 ┆ API    │\n",
       "│ 1710892799000 ┆ 225.8  ┆ 28.22 ┆ 03/19/24 ┆ 23:59:59 ┆ API    │\n",
       "│ 1710979199000 ┆ 228.6  ┆ 28.57 ┆ 03/20/24 ┆ 23:59:59 ┆ API    │\n",
       "│ 1711065599000 ┆ 227.0  ┆ 28.37 ┆ 03/21/24 ┆ 23:59:59 ┆ API    │\n",
       "└───────────────┴────────┴───────┴──────────┴──────────┴────────┘"
      ]
     },
     "execution_count": 5,
     "metadata": {},
     "output_type": "execute_result"
    }
   ],
   "source": [
    "df"
   ]
  },
  {
   "cell_type": "markdown",
   "id": "532d50b6-6528-4a85-a009-ce77ce409aaa",
   "metadata": {},
   "source": [
    "## Clean the data"
   ]
  },
  {
   "cell_type": "code",
   "execution_count": 6,
   "id": "fb301822-3c4c-40d2-a957-1f356455d0b8",
   "metadata": {},
   "outputs": [],
   "source": [
    "# Only keep the first weight measurement per day.\n",
    "df = df.sort(['date', 'time']).unique(subset=['date'], keep='first')"
   ]
  },
  {
   "cell_type": "code",
   "execution_count": 7,
   "id": "6358f325-1fd4-44a9-b493-f485831b15bc",
   "metadata": {},
   "outputs": [
    {
     "data": {
      "text/plain": [
       "(339, 6)"
      ]
     },
     "execution_count": 7,
     "metadata": {},
     "output_type": "execute_result"
    }
   ],
   "source": [
    "df.shape"
   ]
  },
  {
   "cell_type": "markdown",
   "id": "e141d5fb-4121-47dd-8743-cedbcde4a5f0",
   "metadata": {},
   "source": [
    "## Writes the Dataframe to a Parquet file for future use."
   ]
  },
  {
   "cell_type": "code",
   "execution_count": 8,
   "id": "b1d3c5f8-c981-4a16-bcbd-aaca74b2c188",
   "metadata": {},
   "outputs": [
    {
     "name": "stdout",
     "output_type": "stream",
     "text": [
      "CLEAN_DATA_DIR_NAME='/Users/jimtyhurst/Dropbox/sync/data-sync/fitbit/takeout-20240906T231211Z-001/cleaned_data'\n"
     ]
    },
    {
     "data": {
      "text/plain": [
       "str"
      ]
     },
     "execution_count": 8,
     "metadata": {},
     "output_type": "execute_result"
    }
   ],
   "source": [
    "print(f'{CLEAN_DATA_DIR_NAME=}')\n",
    "type(CLEAN_DATA_DIR_NAME)"
   ]
  },
  {
   "cell_type": "code",
   "execution_count": 9,
   "id": "f14894e5-8da4-4f92-bec2-527856213da6",
   "metadata": {},
   "outputs": [],
   "source": [
    "df.write_parquet(Path(CLEAN_DATA_DIR_NAME).joinpath('weight.parquet'))"
   ]
  },
  {
   "cell_type": "markdown",
   "id": "1fa13ebb-776c-425a-85ff-4dfcc7a78af3",
   "metadata": {},
   "source": [
    "## Reads from Parquet file."
   ]
  },
  {
   "cell_type": "code",
   "execution_count": 10,
   "id": "3da6f90e-a138-4d9f-9a3d-729999874ca5",
   "metadata": {},
   "outputs": [
    {
     "data": {
      "text/plain": [
       "(339, 6)"
      ]
     },
     "execution_count": 10,
     "metadata": {},
     "output_type": "execute_result"
    }
   ],
   "source": [
    "df_persisted = pl.read_parquet(\n",
    "    os.path.join(CLEAN_DATA_DIR_NAME, 'weight.parquet')\n",
    ")\n",
    "df_persisted.shape"
   ]
  },
  {
   "cell_type": "code",
   "execution_count": 11,
   "id": "8a979ebd-818b-4985-84ee-87bf05b06e1f",
   "metadata": {},
   "outputs": [
    {
     "data": {
      "text/plain": [
       "True"
      ]
     },
     "execution_count": 11,
     "metadata": {},
     "output_type": "execute_result"
    }
   ],
   "source": [
    "df.equals(df_persisted)"
   ]
  },
  {
   "cell_type": "markdown",
   "id": "c8d7f202-9247-4dfc-8327-1f7ab9035494",
   "metadata": {},
   "source": [
    "## Plots"
   ]
  },
  {
   "cell_type": "code",
   "execution_count": 12,
   "id": "179fa4c5-3f59-4785-b853-0ef21d84c1ab",
   "metadata": {},
   "outputs": [],
   "source": [
    "# TODO\n"
   ]
  },
  {
   "cell_type": "code",
   "execution_count": null,
   "id": "2fc49f4c-be0f-4432-876d-effb044039a4",
   "metadata": {},
   "outputs": [],
   "source": []
  }
 ],
 "metadata": {
  "kernelspec": {
   "display_name": "fitbit_data_viewer",
   "language": "python",
   "name": "fitbit_data_viewer"
  },
  "language_info": {
   "codemirror_mode": {
    "name": "ipython",
    "version": 3
   },
   "file_extension": ".py",
   "mimetype": "text/x-python",
   "name": "python",
   "nbconvert_exporter": "python",
   "pygments_lexer": "ipython3",
   "version": "3.13.0"
  }
 },
 "nbformat": 4,
 "nbformat_minor": 5
}
